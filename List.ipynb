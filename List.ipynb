{
  "nbformat": 4,
  "nbformat_minor": 0,
  "metadata": {
    "colab": {
      "provenance": [],
      "authorship_tag": "ABX9TyMf/a8rkBIls16QagHyGitw",
      "include_colab_link": true
    },
    "kernelspec": {
      "name": "python3",
      "display_name": "Python 3"
    },
    "language_info": {
      "name": "python"
    }
  },
  "cells": [
    {
      "cell_type": "markdown",
      "metadata": {
        "id": "view-in-github",
        "colab_type": "text"
      },
      "source": [
        "<a href=\"https://colab.research.google.com/github/Mahale-Pradnesh/Data-Science-and-Machine-Learning/blob/main/List.ipynb\" target=\"_parent\"><img src=\"https://colab.research.google.com/assets/colab-badge.svg\" alt=\"Open In Colab\"/></a>"
      ]
    },
    {
      "cell_type": "code",
      "source": [],
      "metadata": {
        "id": "NoH5sJWFy1VA"
      },
      "execution_count": null,
      "outputs": []
    },
    {
      "cell_type": "markdown",
      "source": [
        "# **List:**\n",
        "when we what to represent a group of individuals object as a single entity, where\n",
        "\n",
        "a.insertion order is preserved\n",
        "\n",
        "b.duplicates are allowed\n",
        "\n",
        "c.hetrogeneous objects are allowed\n",
        "\n",
        "List is"
      ],
      "metadata": {
        "id": "jUcr7dxFy2Lf"
      }
    },
    {
      "cell_type": "markdown",
      "source": [
        "Creation of list objects:\n",
        "1.we can create empty list objects as follows:"
      ],
      "metadata": {
        "id": "f0QW7Q3CzfT_"
      }
    },
    {
      "cell_type": "code",
      "source": [
        "list=[]\n",
        "print(list)\n",
        "print(type(list))"
      ],
      "metadata": {
        "colab": {
          "base_uri": "https://localhost:8080/"
        },
        "id": "S3y6L6zRzwV3",
        "outputId": "4351b9d0-81e0-4dc7-bf77-85c04d5e15b5"
      },
      "execution_count": null,
      "outputs": [
        {
          "output_type": "stream",
          "name": "stdout",
          "text": [
            "[]\n",
            "<class 'list'>\n"
          ]
        }
      ]
    },
    {
      "cell_type": "markdown",
      "source": [
        "2.If we know the elements already then we can create list as folows:"
      ],
      "metadata": {
        "id": "cUnjpuf60GlO"
      }
    },
    {
      "cell_type": "code",
      "source": [
        "number=[10,20,30,40]\n",
        "print(number)\n",
        "print(type(number))"
      ],
      "metadata": {
        "colab": {
          "base_uri": "https://localhost:8080/"
        },
        "id": "J5UFV7oq0Qx-",
        "outputId": "947858ac-5f4e-4fdb-8635-3f9f2bbca462"
      },
      "execution_count": null,
      "outputs": [
        {
          "output_type": "stream",
          "name": "stdout",
          "text": [
            "[10, 20, 30, 40]\n",
            "<class 'list'>\n"
          ]
        }
      ]
    },
    {
      "cell_type": "code",
      "source": [],
      "metadata": {
        "id": "Pod_ytOR0b8W"
      },
      "execution_count": null,
      "outputs": []
    },
    {
      "cell_type": "markdown",
      "source": [
        "3.with Dynamic Input:\n"
      ],
      "metadata": {
        "id": "RY0YdqZD0caW"
      }
    },
    {
      "cell_type": "code",
      "source": [
        "list=eval(input(\"Enter list:\"))\n",
        "print(list)\n",
        "print(type(list))"
      ],
      "metadata": {
        "colab": {
          "base_uri": "https://localhost:8080/"
        },
        "id": "QcNgHUgW0j5G",
        "outputId": "f27a4867-a759-4da3-f539-1a800677f6cd"
      },
      "execution_count": null,
      "outputs": [
        {
          "output_type": "stream",
          "name": "stdout",
          "text": [
            "Enter list:[10,20,30,40]\n",
            "[10, 20, 30, 40]\n",
            "<class 'list'>\n"
          ]
        }
      ]
    },
    {
      "cell_type": "markdown",
      "source": [
        "Above mentioned method is generic\n",
        "give respective paranthesis for all non-fondamental data types"
      ],
      "metadata": {
        "id": "c05mbD4a2jRX"
      }
    },
    {
      "cell_type": "markdown",
      "source": [
        "4.with list() function"
      ],
      "metadata": {
        "id": "x3r8QwLO4Jyz"
      }
    },
    {
      "cell_type": "code",
      "source": [
        "l=range(0,10,2)\n",
        "print(l)\n",
        "print(type(l))"
      ],
      "metadata": {
        "colab": {
          "base_uri": "https://localhost:8080/"
        },
        "id": "EgXiIy2R4SKv",
        "outputId": "11dcf0e7-cc20-47d3-bf8c-89a3eed8c34e"
      },
      "execution_count": null,
      "outputs": [
        {
          "output_type": "stream",
          "name": "stdout",
          "text": [
            "range(0, 10, 2)\n",
            "<class 'range'>\n"
          ]
        }
      ]
    },
    {
      "cell_type": "code",
      "source": [
        "s=\"Learning Python is very Easy !!!!\"\n",
        "l=s.split()\n",
        "print(l)\n",
        "print(type(l))"
      ],
      "metadata": {
        "colab": {
          "base_uri": "https://localhost:8080/"
        },
        "id": "_s6c0Nwr4x9j",
        "outputId": "6f0a16db-6d43-4019-cc10-85ac94fa1e44"
      },
      "execution_count": null,
      "outputs": [
        {
          "output_type": "stream",
          "name": "stdout",
          "text": [
            "['Learning', 'Python', 'is', 'very', 'Easy', '!!!!']\n",
            "<class 'list'>\n"
          ]
        }
      ]
    },
    {
      "cell_type": "code",
      "source": [
        "#Nested list\n",
        "m=[10,20,30,[40,50]]\n"
      ],
      "metadata": {
        "id": "IXhBYgZf7ZP6"
      },
      "execution_count": null,
      "outputs": []
    },
    {
      "cell_type": "code",
      "source": [
        "print(m)\n",
        "print(type(m))\n"
      ],
      "metadata": {
        "colab": {
          "base_uri": "https://localhost:8080/"
        },
        "id": "vN4LKSCk7jFw",
        "outputId": "9f3dedc8-a91a-49af-8807-c3f818ad2d9f"
      },
      "execution_count": null,
      "outputs": [
        {
          "output_type": "stream",
          "name": "stdout",
          "text": [
            "[10, 20, 30, [40, 50]]\n",
            "<class 'list'>\n"
          ]
        }
      ]
    },
    {
      "cell_type": "code",
      "source": [],
      "metadata": {
        "id": "UXNp_3oq7olg"
      },
      "execution_count": null,
      "outputs": []
    },
    {
      "cell_type": "markdown",
      "source": [
        "Accessing Elements of the List:\n",
        "1.By using index:"
      ],
      "metadata": {
        "id": "lJrpq7lu7qYo"
      }
    },
    {
      "cell_type": "code",
      "source": [
        "l=[1,2,3,4,5]\n",
        "print(l[0])"
      ],
      "metadata": {
        "colab": {
          "base_uri": "https://localhost:8080/"
        },
        "id": "o4WAzEhn7xiw",
        "outputId": "56e7424c-e8fb-4b21-fed2-7f0bfe799287"
      },
      "execution_count": null,
      "outputs": [
        {
          "output_type": "stream",
          "name": "stdout",
          "text": [
            "1\n"
          ]
        }
      ]
    },
    {
      "cell_type": "code",
      "source": [
        "print(l[10])"
      ],
      "metadata": {
        "colab": {
          "base_uri": "https://localhost:8080/",
          "height": 175
        },
        "id": "lfogNFsJ784B",
        "outputId": "3a3aabf5-27ef-4c7b-a1b2-536e3226d3de"
      },
      "execution_count": null,
      "outputs": [
        {
          "output_type": "error",
          "ename": "IndexError",
          "evalue": "ignored",
          "traceback": [
            "\u001b[0;31m---------------------------------------------------------------------------\u001b[0m",
            "\u001b[0;31mIndexError\u001b[0m                                Traceback (most recent call last)",
            "\u001b[0;32m<ipython-input-19-4f116c7f80bf>\u001b[0m in \u001b[0;36m<cell line: 1>\u001b[0;34m()\u001b[0m\n\u001b[0;32m----> 1\u001b[0;31m \u001b[0mprint\u001b[0m\u001b[0;34m(\u001b[0m\u001b[0ml\u001b[0m\u001b[0;34m[\u001b[0m\u001b[0;36m10\u001b[0m\u001b[0;34m]\u001b[0m\u001b[0;34m)\u001b[0m\u001b[0;34m\u001b[0m\u001b[0;34m\u001b[0m\u001b[0m\n\u001b[0m",
            "\u001b[0;31mIndexError\u001b[0m: list index out of range"
          ]
        }
      ]
    },
    {
      "cell_type": "code",
      "source": [],
      "metadata": {
        "id": "HqkVZyIm8Mf_"
      },
      "execution_count": null,
      "outputs": []
    },
    {
      "cell_type": "markdown",
      "source": [
        "2.By using slice operator:\n",
        "list2=list1[start:stop:step]"
      ],
      "metadata": {
        "id": "0RxwpWln8Ntv"
      }
    },
    {
      "cell_type": "code",
      "source": [
        "n=[1,2,3,4,5,6,7,8,9,10]\n",
        "print(n[2:7:2])"
      ],
      "metadata": {
        "colab": {
          "base_uri": "https://localhost:8080/"
        },
        "id": "ZlVoPY2p9KI5",
        "outputId": "e3edd5d2-c100-48aa-ada9-d55bffdff6db"
      },
      "execution_count": null,
      "outputs": [
        {
          "output_type": "stream",
          "name": "stdout",
          "text": [
            "[3, 5, 7]\n"
          ]
        }
      ]
    },
    {
      "cell_type": "code",
      "source": [
        "print(n[3:7])"
      ],
      "metadata": {
        "colab": {
          "base_uri": "https://localhost:8080/"
        },
        "id": "JVltimdq9ZPH",
        "outputId": "90200f0e-65d3-4483-8aba-073912406373"
      },
      "execution_count": null,
      "outputs": [
        {
          "output_type": "stream",
          "name": "stdout",
          "text": [
            "[4, 5, 6, 7]\n"
          ]
        }
      ]
    },
    {
      "cell_type": "code",
      "source": [
        "print(n[4:10])"
      ],
      "metadata": {
        "colab": {
          "base_uri": "https://localhost:8080/"
        },
        "id": "I8HE9ahq9edv",
        "outputId": "b758c73b-5a1b-4a58-8f97-13d6e1ec4c5d"
      },
      "execution_count": null,
      "outputs": [
        {
          "output_type": "stream",
          "name": "stdout",
          "text": [
            "[5, 6, 7, 8, 9, 10]\n"
          ]
        }
      ]
    },
    {
      "cell_type": "code",
      "source": [],
      "metadata": {
        "id": "0fpP0EvS_Rm4"
      },
      "execution_count": null,
      "outputs": []
    },
    {
      "cell_type": "markdown",
      "source": [
        "once we create a list object, we can modify its content.Hence list objects are mutable"
      ],
      "metadata": {
        "id": "MXd0ROviASde"
      }
    },
    {
      "cell_type": "code",
      "source": [
        "n=[1,2,3,4,5]\n",
        "print(n)\n",
        "n[1]=777\n",
        "print(n)"
      ],
      "metadata": {
        "colab": {
          "base_uri": "https://localhost:8080/"
        },
        "id": "SazWCw1hAcfB",
        "outputId": "4dbd7d10-ae33-4ec8-9bca-7287e200e4fc"
      },
      "execution_count": null,
      "outputs": [
        {
          "output_type": "stream",
          "name": "stdout",
          "text": [
            "[1, 2, 3, 4, 5]\n",
            "[1, 777, 3, 4, 5]\n"
          ]
        }
      ]
    },
    {
      "cell_type": "markdown",
      "source": [
        "Traversing the element jof the list:\\\n",
        "1.By using while loop:"
      ],
      "metadata": {
        "id": "eh82vpzXAphk"
      }
    },
    {
      "cell_type": "code",
      "source": [
        "n=[0,1,2,3,4,5,6,7,8,9,10]\n",
        "i=0\n",
        "while i<len(n):\n",
        "  print(n[i])\n",
        "  i=i+1"
      ],
      "metadata": {
        "colab": {
          "base_uri": "https://localhost:8080/"
        },
        "id": "xrmyNV4SAxOi",
        "outputId": "02ad373a-1900-4ccc-9163-ff073756294a"
      },
      "execution_count": null,
      "outputs": [
        {
          "output_type": "stream",
          "name": "stdout",
          "text": [
            "0\n",
            "1\n",
            "2\n",
            "3\n",
            "4\n",
            "5\n",
            "6\n",
            "7\n",
            "8\n",
            "9\n",
            "10\n"
          ]
        }
      ]
    },
    {
      "cell_type": "code",
      "source": [
        "for i in range(1,len(n),2):\n",
        "    print(i)"
      ],
      "metadata": {
        "colab": {
          "base_uri": "https://localhost:8080/"
        },
        "id": "o6AAYja8CvqL",
        "outputId": "586a2ddd-4a7b-4989-b9d0-47a41ff47646"
      },
      "execution_count": null,
      "outputs": [
        {
          "output_type": "stream",
          "name": "stdout",
          "text": [
            "1\n",
            "3\n",
            "5\n",
            "7\n",
            "9\n"
          ]
        }
      ]
    }
  ]
}