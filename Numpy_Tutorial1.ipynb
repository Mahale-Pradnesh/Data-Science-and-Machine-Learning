{
  "nbformat": 4,
  "nbformat_minor": 0,
  "metadata": {
    "colab": {
      "provenance": [],
      "authorship_tag": "ABX9TyOK5i6tzcAzgN+ptbwWhDZ3",
      "include_colab_link": true
    },
    "kernelspec": {
      "name": "python3",
      "display_name": "Python 3"
    },
    "language_info": {
      "name": "python"
    }
  },
  "cells": [
    {
      "cell_type": "markdown",
      "metadata": {
        "id": "view-in-github",
        "colab_type": "text"
      },
      "source": [
        "<a href=\"https://colab.research.google.com/github/Mahale-Pradnesh/Data-Science-and-Machine-Learning/blob/main/Numpy_Tutorial1.ipynb\" target=\"_parent\"><img src=\"https://colab.research.google.com/assets/colab-badge.svg\" alt=\"Open In Colab\"/></a>"
      ]
    },
    {
      "cell_type": "markdown",
      "source": [
        "# **Numpy :-Numerical Python**\n",
        "\n",
        "\n",
        "Advantages of Numpy Arrays:\n",
        "\n",
        "  1.Allow several Mathematical Operation\n",
        "  \n",
        "  2.Faster operation\n"
      ],
      "metadata": {
        "id": "qtmPI3_eZ8GU"
      }
    },
    {
      "cell_type": "code",
      "execution_count": 1,
      "metadata": {
        "id": "d7jKKgK_Zuwl"
      },
      "outputs": [],
      "source": [
        "import numpy as np"
      ]
    },
    {
      "cell_type": "markdown",
      "source": [
        "List vs Numpy :-Time Taken"
      ],
      "metadata": {
        "id": "Ni_fL57sbEwj"
      }
    },
    {
      "cell_type": "code",
      "source": [
        "from time import process_time"
      ],
      "metadata": {
        "id": "xSRzxzodbDe8"
      },
      "execution_count": 3,
      "outputs": []
    },
    {
      "cell_type": "markdown",
      "source": [
        "Time taken by list"
      ],
      "metadata": {
        "id": "jw5Epl3FbbAl"
      }
    },
    {
      "cell_type": "code",
      "source": [
        "from time import process_time\n",
        "python_list=[i for i in range(10000)]\n"
      ],
      "metadata": {
        "id": "B5bJgoI30Tqi"
      },
      "execution_count": 8,
      "outputs": []
    },
    {
      "cell_type": "code",
      "source": [
        "python_list=[i for i in range(10000)]\n",
        "\n",
        "start_time=process_time()\n",
        "\n",
        "python_list=[i+5 for i in python_list]\n",
        "\n",
        "end_time=process_time()\n",
        "\n",
        "print(end_time - start_time)\n",
        "\n",
        "\n"
      ],
      "metadata": {
        "id": "RxWTF75Ta6FE",
        "colab": {
          "base_uri": "https://localhost:8080/"
        },
        "outputId": "a0e19639-b68a-4fa2-a8a9-6c683fcf14fd"
      },
      "execution_count": 9,
      "outputs": [
        {
          "output_type": "stream",
          "name": "stdout",
          "text": [
            "0.0006674740000001123\n"
          ]
        }
      ]
    },
    {
      "cell_type": "code",
      "source": [
        "np_array=np.array([i for i in range(10000)])\n",
        "\n",
        "start_time=process_time()\n",
        "\n",
        "np_array +=5\n",
        "\n",
        "end_time=process_time()\n",
        "\n",
        "print(end_time - start_time)"
      ],
      "metadata": {
        "id": "D-WAZ5AOb5xz",
        "colab": {
          "base_uri": "https://localhost:8080/"
        },
        "outputId": "bf66c279-f0fa-4e7b-d5cc-68e1044120fb"
      },
      "execution_count": 11,
      "outputs": [
        {
          "output_type": "stream",
          "name": "stdout",
          "text": [
            "0.00013523099999979138\n"
          ]
        }
      ]
    },
    {
      "cell_type": "markdown",
      "source": [
        "**Numpy Arrays**"
      ],
      "metadata": {
        "id": "MfQqiJsKhP1d"
      }
    },
    {
      "cell_type": "code",
      "source": [
        "# list\n",
        "list1=[1,2,3,4,4]\n",
        "print(list1)\n",
        "type(list1)"
      ],
      "metadata": {
        "colab": {
          "base_uri": "https://localhost:8080/"
        },
        "id": "epe834ingC7D",
        "outputId": "b9e54a8c-aebb-4cb5-816e-0086bed7a60e"
      },
      "execution_count": 15,
      "outputs": [
        {
          "output_type": "stream",
          "name": "stdout",
          "text": [
            "[1, 2, 3, 4, 4]\n"
          ]
        },
        {
          "output_type": "execute_result",
          "data": {
            "text/plain": [
              "list"
            ]
          },
          "metadata": {},
          "execution_count": 15
        }
      ]
    },
    {
      "cell_type": "code",
      "source": [
        "np_array=np.array([1,2,3,4,5])\n",
        "print(np_array)\n",
        "type(np_array)\n"
      ],
      "metadata": {
        "colab": {
          "base_uri": "https://localhost:8080/"
        },
        "id": "JMA14olqj0D-",
        "outputId": "434dc583-8615-40b2-dc03-5f0912ee204d"
      },
      "execution_count": 17,
      "outputs": [
        {
          "output_type": "stream",
          "name": "stdout",
          "text": [
            "[1 2 3 4 5]\n"
          ]
        },
        {
          "output_type": "execute_result",
          "data": {
            "text/plain": [
              "numpy.ndarray"
            ]
          },
          "metadata": {},
          "execution_count": 17
        }
      ]
    },
    {
      "cell_type": "code",
      "source": [
        "# creating a 1 dimensional array\n",
        "a=np.array([1,3,4,5,2])\n",
        "print(a)"
      ],
      "metadata": {
        "colab": {
          "base_uri": "https://localhost:8080/"
        },
        "id": "va1Qfa2plKWF",
        "outputId": "b638de56-3161-4187-8b9f-654684cb866b"
      },
      "execution_count": 18,
      "outputs": [
        {
          "output_type": "stream",
          "name": "stdout",
          "text": [
            "[1 3 4 5 2]\n"
          ]
        }
      ]
    },
    {
      "cell_type": "code",
      "source": [
        "a.shape"
      ],
      "metadata": {
        "colab": {
          "base_uri": "https://localhost:8080/"
        },
        "id": "DfEmRj9Ll8v-",
        "outputId": "52755d19-3e08-4834-d9c3-7c7b3fccece3"
      },
      "execution_count": 19,
      "outputs": [
        {
          "output_type": "execute_result",
          "data": {
            "text/plain": [
              "(5,)"
            ]
          },
          "metadata": {},
          "execution_count": 19
        }
      ]
    },
    {
      "cell_type": "code",
      "source": [
        "# creating a 2 dimensional array\n",
        "\n",
        "b=np.array([(1,2,3,4),(5,6,7,8)])\n",
        "print(b)\n",
        "type(b)"
      ],
      "metadata": {
        "colab": {
          "base_uri": "https://localhost:8080/"
        },
        "id": "QxftozMcmIpz",
        "outputId": "8a5be569-dafd-45d4-e7e7-9a253f0e3959"
      },
      "execution_count": 21,
      "outputs": [
        {
          "output_type": "stream",
          "name": "stdout",
          "text": [
            "[[1 2 3 4]\n",
            " [5 6 7 8]]\n"
          ]
        },
        {
          "output_type": "execute_result",
          "data": {
            "text/plain": [
              "numpy.ndarray"
            ]
          },
          "metadata": {},
          "execution_count": 21
        }
      ]
    },
    {
      "cell_type": "code",
      "source": [
        "b.shape"
      ],
      "metadata": {
        "colab": {
          "base_uri": "https://localhost:8080/"
        },
        "id": "mJQYp5DxmnY0",
        "outputId": "66bc589c-0341-48a3-e502-ce70a855d3d5"
      },
      "execution_count": 13,
      "outputs": [
        {
          "output_type": "execute_result",
          "data": {
            "text/plain": [
              "(2, 4)"
            ]
          },
          "metadata": {},
          "execution_count": 13
        }
      ]
    },
    {
      "cell_type": "code",
      "source": [
        "c=np.array([(1,2,3,4),(5,6,7,8)],dtype=float)\n",
        "print(c)"
      ],
      "metadata": {
        "colab": {
          "base_uri": "https://localhost:8080/"
        },
        "id": "yIsTNjDOm8oS",
        "outputId": "3b2bd67c-7d35-4f68-a7cb-975e22fc4e27"
      },
      "execution_count": 22,
      "outputs": [
        {
          "output_type": "stream",
          "name": "stdout",
          "text": [
            "[[1. 2. 3. 4.]\n",
            " [5. 6. 7. 8.]]\n"
          ]
        }
      ]
    },
    {
      "cell_type": "markdown",
      "source": [
        "# Initial Placeholder to the numpy arrays"
      ],
      "metadata": {
        "id": "lqo4gImnnsSr"
      }
    },
    {
      "cell_type": "code",
      "source": [
        "# Create a numpy array of a Zeros values\n",
        "\n",
        "x=np.zeros((3,4))\n",
        "print(x)"
      ],
      "metadata": {
        "colab": {
          "base_uri": "https://localhost:8080/"
        },
        "id": "2Wwyv3XtnbA4",
        "outputId": "0e47016f-6421-47ce-c5d2-943519b6dc9f"
      },
      "execution_count": 24,
      "outputs": [
        {
          "output_type": "stream",
          "name": "stdout",
          "text": [
            "[[0. 0. 0. 0.]\n",
            " [0. 0. 0. 0.]\n",
            " [0. 0. 0. 0.]]\n"
          ]
        }
      ]
    },
    {
      "cell_type": "code",
      "source": [
        "#Create a numpy array of a Ones\n",
        "\n",
        "y=np.ones((3,3))\n",
        "print(y)"
      ],
      "metadata": {
        "colab": {
          "base_uri": "https://localhost:8080/"
        },
        "id": "jk8UBKAvorlW",
        "outputId": "0f488733-6064-42ba-ba06-67ed71e909f0"
      },
      "execution_count": null,
      "outputs": [
        {
          "output_type": "stream",
          "name": "stdout",
          "text": [
            "[[1. 1. 1.]\n",
            " [1. 1. 1.]\n",
            " [1. 1. 1.]]\n"
          ]
        }
      ]
    },
    {
      "cell_type": "code",
      "source": [
        "# array of a perticular values\n",
        "s=np.full((3,5),7)\n",
        "print(s)"
      ],
      "metadata": {
        "id": "vBVI55pAo9b7",
        "colab": {
          "base_uri": "https://localhost:8080/"
        },
        "outputId": "69f65b62-f7c9-4931-c03e-b3e1b893e37c"
      },
      "execution_count": null,
      "outputs": [
        {
          "output_type": "stream",
          "name": "stdout",
          "text": [
            "[[7 7 7 7 7]\n",
            " [7 7 7 7 7]\n",
            " [7 7 7 7 7]]\n"
          ]
        }
      ]
    },
    {
      "cell_type": "code",
      "source": [
        "# create a identity matrix\n",
        "d=np.eye((4))\n",
        "print(d)"
      ],
      "metadata": {
        "colab": {
          "base_uri": "https://localhost:8080/"
        },
        "id": "qOdHpfNDG4s6",
        "outputId": "72b4872b-be45-415d-dca5-33544426e748"
      },
      "execution_count": null,
      "outputs": [
        {
          "output_type": "stream",
          "name": "stdout",
          "text": [
            "[[1. 0. 0. 0.]\n",
            " [0. 1. 0. 0.]\n",
            " [0. 0. 1. 0.]\n",
            " [0. 0. 0. 1.]]\n"
          ]
        }
      ]
    },
    {
      "cell_type": "code",
      "source": [
        "#create a array with a random values\n",
        "b=np.random.random((3,5))\n",
        "print(b)"
      ],
      "metadata": {
        "colab": {
          "base_uri": "https://localhost:8080/"
        },
        "id": "JNBOhSRFG96p",
        "outputId": "874136a7-2bf5-4890-a423-b93bbaa24f47"
      },
      "execution_count": null,
      "outputs": [
        {
          "output_type": "stream",
          "name": "stdout",
          "text": [
            "[[0.81129429 0.51454265 0.53445592 0.87201506 0.77699586]\n",
            " [0.08601526 0.85233039 0.82318641 0.91224511 0.61932845]\n",
            " [0.85874931 0.96171584 0.82194402 0.36828175 0.84879181]]\n"
          ]
        }
      ]
    },
    {
      "cell_type": "code",
      "source": [
        "# random integer values array within a specific range\n",
        "t=np.random.randint(10,100,(4,5))\n",
        "print(t)"
      ],
      "metadata": {
        "colab": {
          "base_uri": "https://localhost:8080/"
        },
        "id": "WoSFcRZ_IPs9",
        "outputId": "9e545926-b770-4551-8381-05d8f222e2f4"
      },
      "execution_count": null,
      "outputs": [
        {
          "output_type": "stream",
          "name": "stdout",
          "text": [
            "[[14 68 31 97 22]\n",
            " [25 85 91 48 25]\n",
            " [72 43 61 20 54]\n",
            " [72 38 27 64 79]]\n"
          ]
        }
      ]
    },
    {
      "cell_type": "code",
      "source": [
        "#array of evenly spaced values -->specifying the number of values requires\n",
        "r=np.linspace(10,30,5)\n",
        "print(r)"
      ],
      "metadata": {
        "colab": {
          "base_uri": "https://localhost:8080/"
        },
        "id": "AFFzd-tJJTz2",
        "outputId": "e030fa32-77c0-4efa-b29b-d3c317a002b8"
      },
      "execution_count": null,
      "outputs": [
        {
          "output_type": "stream",
          "name": "stdout",
          "text": [
            "[10. 15. 20. 25. 30.]\n"
          ]
        }
      ]
    },
    {
      "cell_type": "code",
      "source": [
        "#array of evenly spaced values -->specifying the step\n",
        "r=np.arange(10,30,5)\n",
        "print(r)"
      ],
      "metadata": {
        "colab": {
          "base_uri": "https://localhost:8080/"
        },
        "id": "6y885LHJLTZE",
        "outputId": "0db5a059-3aa9-42da-b3b8-5cbd30eb6fc0"
      },
      "execution_count": null,
      "outputs": [
        {
          "output_type": "stream",
          "name": "stdout",
          "text": [
            "[10 15 20 25]\n"
          ]
        }
      ]
    },
    {
      "cell_type": "code",
      "source": [
        "#convert a list to a numpy array\n",
        "\n",
        "list2=[10,20,30,40,50]\n",
        "\n",
        "np_array=np.asarray(list2)\n",
        "print(np_array)\n",
        "type(np_array)"
      ],
      "metadata": {
        "colab": {
          "base_uri": "https://localhost:8080/"
        },
        "id": "zwRR822zL5Bv",
        "outputId": "7860ba18-86cd-44b2-82ab-df125b110322"
      },
      "execution_count": null,
      "outputs": [
        {
          "output_type": "stream",
          "name": "stdout",
          "text": [
            "[10 20 30 40 50]\n"
          ]
        },
        {
          "output_type": "execute_result",
          "data": {
            "text/plain": [
              "numpy.ndarray"
            ]
          },
          "metadata": {},
          "execution_count": 29
        }
      ]
    },
    {
      "cell_type": "markdown",
      "source": [
        "# Analyzing Numpy Array:"
      ],
      "metadata": {
        "id": "28o9a1SRUhRW"
      }
    },
    {
      "cell_type": "code",
      "source": [
        "c=np.random.randint(10,90,(5,5))\n",
        "print(c)"
      ],
      "metadata": {
        "colab": {
          "base_uri": "https://localhost:8080/"
        },
        "id": "uK-eYKxBB6-a",
        "outputId": "cb4ebfce-d97f-47eb-e0a7-33a376dd0399"
      },
      "execution_count": null,
      "outputs": [
        {
          "output_type": "stream",
          "name": "stdout",
          "text": [
            "[[40 71 66 37 19]\n",
            " [65 19 43 14 35]\n",
            " [63 50 89 72 44]\n",
            " [42 36 68 16 78]\n",
            " [82 43 82 50 77]]\n"
          ]
        }
      ]
    },
    {
      "cell_type": "code",
      "source": [
        "# array dimension\n",
        "print(c.shape)"
      ],
      "metadata": {
        "colab": {
          "base_uri": "https://localhost:8080/"
        },
        "id": "Q9nrPfTEU42Y",
        "outputId": "d9bcc612-07d5-454f-a00d-f8fb4dd6e05c"
      },
      "execution_count": null,
      "outputs": [
        {
          "output_type": "stream",
          "name": "stdout",
          "text": [
            "(5, 5)\n"
          ]
        }
      ]
    },
    {
      "cell_type": "code",
      "source": [
        "# number of dimensions\n",
        "print(c.ndim)"
      ],
      "metadata": {
        "colab": {
          "base_uri": "https://localhost:8080/"
        },
        "id": "57AYcwfaVKnD",
        "outputId": "0b5afffa-f83f-40d9-8447-47f720edb723"
      },
      "execution_count": null,
      "outputs": [
        {
          "output_type": "stream",
          "name": "stdout",
          "text": [
            "2\n"
          ]
        }
      ]
    },
    {
      "cell_type": "code",
      "source": [
        "# number of elements in an array\n",
        "print(c.size)"
      ],
      "metadata": {
        "colab": {
          "base_uri": "https://localhost:8080/"
        },
        "id": "F1oKy-JnVbxN",
        "outputId": "da82afcd-ab70-4598-d600-6af88b4369f8"
      },
      "execution_count": null,
      "outputs": [
        {
          "output_type": "stream",
          "name": "stdout",
          "text": [
            "25\n"
          ]
        }
      ]
    },
    {
      "cell_type": "code",
      "source": [
        "# checking the data type of the values in the array\n",
        "print(c.dtype)"
      ],
      "metadata": {
        "colab": {
          "base_uri": "https://localhost:8080/"
        },
        "id": "6uWilAU0Vt1B",
        "outputId": "aab39962-bc32-458d-c072-6f9e31c9b6c6"
      },
      "execution_count": null,
      "outputs": [
        {
          "output_type": "stream",
          "name": "stdout",
          "text": [
            "int64\n"
          ]
        }
      ]
    },
    {
      "cell_type": "markdown",
      "source": [
        "# Mathematical Operations on np array"
      ],
      "metadata": {
        "id": "eqeKbkaBYYQW"
      }
    },
    {
      "cell_type": "code",
      "source": [
        "list1=[1,2,3,4,5]\n",
        "list2=[6,7,8,9,10]\n",
        "\n",
        "print(list1 + list2) #Concatenate only"
      ],
      "metadata": {
        "colab": {
          "base_uri": "https://localhost:8080/"
        },
        "id": "uP3Q7X52WBAI",
        "outputId": "3b1e1fbe-65d7-4b0e-b005-58df57f02d1e"
      },
      "execution_count": null,
      "outputs": [
        {
          "output_type": "stream",
          "name": "stdout",
          "text": [
            "[1, 2, 3, 4, 5, 6, 7, 8, 9, 10]\n"
          ]
        }
      ]
    },
    {
      "cell_type": "code",
      "source": [
        "a=np.random.randint(0,10,(3,3))\n",
        "b=np.random.randint(10,20,(3,3))"
      ],
      "metadata": {
        "id": "-UOs6oS_ZBgR"
      },
      "execution_count": null,
      "outputs": []
    },
    {
      "cell_type": "code",
      "source": [
        "print(a)\n",
        "print(b)"
      ],
      "metadata": {
        "colab": {
          "base_uri": "https://localhost:8080/"
        },
        "id": "B2bnsUWuZY8l",
        "outputId": "348e1115-70c2-4d45-9bc2-324512867537"
      },
      "execution_count": null,
      "outputs": [
        {
          "output_type": "stream",
          "name": "stdout",
          "text": [
            "[[5 0 6]\n",
            " [6 2 6]\n",
            " [4 0 6]]\n",
            "[[17 14 10]\n",
            " [18 14 19]\n",
            " [18 16 10]]\n"
          ]
        }
      ]
    },
    {
      "cell_type": "code",
      "source": [
        "print(a + b)\n",
        "print(a - b)\n",
        "print(a * b)\n",
        "print(a / b)"
      ],
      "metadata": {
        "colab": {
          "base_uri": "https://localhost:8080/"
        },
        "id": "R7d6U0CKZcvj",
        "outputId": "0e8b9838-4c13-49e2-e9e5-957c7f6f7521"
      },
      "execution_count": null,
      "outputs": [
        {
          "output_type": "stream",
          "name": "stdout",
          "text": [
            "[[22 14 16]\n",
            " [24 16 25]\n",
            " [22 16 16]]\n",
            "[[-12 -14  -4]\n",
            " [-12 -12 -13]\n",
            " [-14 -16  -4]]\n",
            "[[ 85   0  60]\n",
            " [108  28 114]\n",
            " [ 72   0  60]]\n",
            "[[0.29411765 0.         0.6       ]\n",
            " [0.33333333 0.14285714 0.31578947]\n",
            " [0.22222222 0.         0.6       ]]\n"
          ]
        }
      ]
    },
    {
      "cell_type": "code",
      "source": [
        "a=np.random.randint(0,10,(3,3))\n",
        "b=np.random.randint(10,20,(3,3))"
      ],
      "metadata": {
        "id": "bb5lMxugZ2gC"
      },
      "execution_count": null,
      "outputs": []
    },
    {
      "cell_type": "code",
      "source": [
        "print(a)\n",
        "print(b)"
      ],
      "metadata": {
        "colab": {
          "base_uri": "https://localhost:8080/"
        },
        "id": "LNKVNrEbbEyv",
        "outputId": "e82a4cce-faae-471a-f241-c525b3d04ae2"
      },
      "execution_count": null,
      "outputs": [
        {
          "output_type": "stream",
          "name": "stdout",
          "text": [
            "[[6 1 9]\n",
            " [9 7 0]\n",
            " [3 5 4]]\n",
            "[[19 19 16]\n",
            " [10 18 15]\n",
            " [19 16 14]]\n"
          ]
        }
      ]
    },
    {
      "cell_type": "code",
      "source": [
        "print(np.add(a,b))\n",
        "print(np.subtract(a,b))\n",
        "print(np.multiply(a,b))\n",
        "print(np.divide(a,b))"
      ],
      "metadata": {
        "colab": {
          "base_uri": "https://localhost:8080/"
        },
        "id": "zKl4Ec0IbKRW",
        "outputId": "b64a45f7-1417-4daa-fd80-63611d2bcc14"
      },
      "execution_count": null,
      "outputs": [
        {
          "output_type": "stream",
          "name": "stdout",
          "text": [
            "[[25 20 25]\n",
            " [19 25 15]\n",
            " [22 21 18]]\n",
            "[[-13 -18  -7]\n",
            " [ -1 -11 -15]\n",
            " [-16 -11 -10]]\n",
            "[[114  19 144]\n",
            " [ 90 126   0]\n",
            " [ 57  80  56]]\n",
            "[[0.31578947 0.05263158 0.5625    ]\n",
            " [0.9        0.38888889 0.        ]\n",
            " [0.15789474 0.3125     0.28571429]]\n"
          ]
        }
      ]
    },
    {
      "cell_type": "markdown",
      "source": [
        "# Array Manipulation"
      ],
      "metadata": {
        "id": "TQP34TTscY0I"
      }
    },
    {
      "cell_type": "code",
      "source": [
        "array=np.random.randint(0,10,(4,3))\n",
        "print(array)\n",
        "print(array.shape)"
      ],
      "metadata": {
        "colab": {
          "base_uri": "https://localhost:8080/"
        },
        "id": "ngbpY4qybjAr",
        "outputId": "323fd795-8f54-476e-ce31-89c8ea55381f"
      },
      "execution_count": null,
      "outputs": [
        {
          "output_type": "stream",
          "name": "stdout",
          "text": [
            "[[9 5 6]\n",
            " [6 2 6]\n",
            " [7 3 9]\n",
            " [1 0 4]]\n",
            "(4, 3)\n"
          ]
        }
      ]
    },
    {
      "cell_type": "code",
      "source": [
        "# Transpose\n",
        "trans=np.transpose(array)\n",
        "print(trans)\n",
        "print(trans.shape)"
      ],
      "metadata": {
        "colab": {
          "base_uri": "https://localhost:8080/"
        },
        "id": "5--u3XYdcyLd",
        "outputId": "e4b39c37-60c7-4c66-8b25-aecfb99708d3"
      },
      "execution_count": null,
      "outputs": [
        {
          "output_type": "stream",
          "name": "stdout",
          "text": [
            "[[9 6 7 1]\n",
            " [5 2 3 0]\n",
            " [6 6 9 4]]\n",
            "(3, 4)\n"
          ]
        }
      ]
    },
    {
      "cell_type": "code",
      "source": [
        "array=np.random.randint(0,10,(2,3))\n",
        "print(array)\n",
        "print(array.shape)"
      ],
      "metadata": {
        "colab": {
          "base_uri": "https://localhost:8080/"
        },
        "id": "ofv6tPbVdJ7a",
        "outputId": "2bccc1aa-41f1-41f2-e75d-4c8ed072d325"
      },
      "execution_count": null,
      "outputs": [
        {
          "output_type": "stream",
          "name": "stdout",
          "text": [
            "[[0 1 8]\n",
            " [1 0 7]]\n",
            "(2, 3)\n"
          ]
        }
      ]
    },
    {
      "cell_type": "code",
      "source": [
        "trans2=array.T\n",
        "print(trans2)\n",
        "print(trans.shape)"
      ],
      "metadata": {
        "colab": {
          "base_uri": "https://localhost:8080/"
        },
        "id": "RNjVclG7eKt3",
        "outputId": "846389e9-b3f1-41dd-ed9b-5b3fbc2b8499"
      },
      "execution_count": null,
      "outputs": [
        {
          "output_type": "stream",
          "name": "stdout",
          "text": [
            "[[0 1]\n",
            " [1 0]\n",
            " [8 7]]\n",
            "(3, 2)\n"
          ]
        }
      ]
    },
    {
      "cell_type": "code",
      "source": [
        "# reshaping the array\n",
        "\n",
        "a=np.random.randint(0,10,(4,3))\n",
        "print(a)\n",
        "print(a.shape)"
      ],
      "metadata": {
        "colab": {
          "base_uri": "https://localhost:8080/"
        },
        "id": "Ka8yRH1veUzr",
        "outputId": "a13a948f-57d5-44b0-fd04-6a47267f26cf"
      },
      "execution_count": null,
      "outputs": [
        {
          "output_type": "stream",
          "name": "stdout",
          "text": [
            "[[6 6 6]\n",
            " [6 0 5]\n",
            " [9 5 1]\n",
            " [2 2 8]]\n",
            "(4, 3)\n"
          ]
        }
      ]
    },
    {
      "cell_type": "code",
      "source": [
        "b=a.reshape(3,4)\n",
        "print(b)\n",
        "print(b.shape)"
      ],
      "metadata": {
        "colab": {
          "base_uri": "https://localhost:8080/"
        },
        "id": "qyIT9Q-PfDbR",
        "outputId": "c9167d4f-41d4-46ad-e91e-365c691b2337"
      },
      "execution_count": null,
      "outputs": [
        {
          "output_type": "stream",
          "name": "stdout",
          "text": [
            "[[6 6 6 6]\n",
            " [0 5 9 5]\n",
            " [1 2 2 8]]\n",
            "(3, 4)\n"
          ]
        }
      ]
    },
    {
      "cell_type": "code",
      "source": [],
      "metadata": {
        "id": "wC1dmkW4fJy6"
      },
      "execution_count": null,
      "outputs": []
    }
  ]
}