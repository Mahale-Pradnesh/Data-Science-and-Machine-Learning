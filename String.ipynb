{
  "nbformat": 4,
  "nbformat_minor": 0,
  "metadata": {
    "colab": {
      "provenance": [],
      "authorship_tag": "ABX9TyOGAn4haFL52kFASDIKtMWi",
      "include_colab_link": true
    },
    "kernelspec": {
      "name": "python3",
      "display_name": "Python 3"
    },
    "language_info": {
      "name": "python"
    }
  },
  "cells": [
    {
      "cell_type": "markdown",
      "metadata": {
        "id": "view-in-github",
        "colab_type": "text"
      },
      "source": [
        "<a href=\"https://colab.research.google.com/github/Mahale-Pradnesh/Data-Science-and-Machine-Learning/blob/main/String.ipynb\" target=\"_parent\"><img src=\"https://colab.research.google.com/assets/colab-badge.svg\" alt=\"Open In Colab\"/></a>"
      ]
    },
    {
      "cell_type": "markdown",
      "source": [
        "**What is a String?**\n",
        "\n",
        "Ans: Any sequence at characters within either single quotes or double quotes\n",
        "is considered as a String .\n",
        "The Most commonly used object in any project and in any programming language.\n"
      ],
      "metadata": {
        "id": "EoaiqbrBhN34"
      }
    },
    {
      "cell_type": "markdown",
      "source": [
        "In python we don't have char data type.Hence it is treated as String only."
      ],
      "metadata": {
        "id": "M6LQj78skg4v"
      }
    },
    {
      "cell_type": "code",
      "source": [
        "s=\"Pradnesh\"\n",
        "print(type(s))"
      ],
      "metadata": {
        "colab": {
          "base_uri": "https://localhost:8080/"
        },
        "id": "VN9Xt0b9k23H",
        "outputId": "faaf3309-dc15-4664-9c02-8ec9410d157c"
      },
      "execution_count": null,
      "outputs": [
        {
          "output_type": "stream",
          "name": "stdout",
          "text": [
            "<class 'str'>\n"
          ]
        }
      ]
    },
    {
      "cell_type": "code",
      "source": [],
      "metadata": {
        "id": "bbk11CR7k8B_"
      },
      "execution_count": null,
      "outputs": []
    },
    {
      "cell_type": "markdown",
      "source": [
        "*How to define multi-line String Literals?*\n",
        "\n",
        "We can define multi-line String literals by using triple single quotes or double quotes."
      ],
      "metadata": {
        "id": "qXZkbH0zlH3v"
      }
    },
    {
      "cell_type": "code",
      "source": [
        "s='''Third\n",
        "Year\n",
        "Enginnering'''\n",
        "print(type(s))\n"
      ],
      "metadata": {
        "colab": {
          "base_uri": "https://localhost:8080/"
        },
        "id": "KD3myDd-lLbX",
        "outputId": "b82e2846-a1f6-42d5-ac5e-7bb12168ac07"
      },
      "execution_count": null,
      "outputs": [
        {
          "output_type": "stream",
          "name": "stdout",
          "text": [
            "<class 'str'>\n"
          ]
        }
      ]
    },
    {
      "cell_type": "code",
      "source": [],
      "metadata": {
        "id": "0mr15_KamPXV"
      },
      "execution_count": null,
      "outputs": []
    },
    {
      "cell_type": "markdown",
      "source": [
        "*Which of the following are valid String?*\n",
        "\n",
        "\n",
        "\n"
      ],
      "metadata": {
        "id": "41bqfZY4mRDP"
      }
    },
    {
      "cell_type": "code",
      "source": [
        "s='this is'single quote symbol'\n",
        "print(type(s))"
      ],
      "metadata": {
        "colab": {
          "base_uri": "https://localhost:8080/",
          "height": 140
        },
        "id": "uxXPJy0TmWeX",
        "outputId": "560064b2-f894-4419-fdff-d530eb9d4dcb"
      },
      "execution_count": null,
      "outputs": [
        {
          "output_type": "error",
          "ename": "SyntaxError",
          "evalue": "ignored",
          "traceback": [
            "\u001b[0;36m  File \u001b[0;32m\"<ipython-input-3-320a53457e97>\"\u001b[0;36m, line \u001b[0;32m1\u001b[0m\n\u001b[0;31m    s='this is'single quote symbol'\u001b[0m\n\u001b[0m                                  ^\u001b[0m\n\u001b[0;31mSyntaxError\u001b[0m\u001b[0;31m:\u001b[0m unterminated string literal (detected at line 1)\n"
          ]
        }
      ]
    },
    {
      "cell_type": "code",
      "source": [
        "s='this is\\'single quote symbol'\n",
        "print(type(s))"
      ],
      "metadata": {
        "colab": {
          "base_uri": "https://localhost:8080/"
        },
        "id": "7A4WV_DnmvC4",
        "outputId": "83c593a3-62de-491e-c850-ab81d3756a3c"
      },
      "execution_count": null,
      "outputs": [
        {
          "output_type": "stream",
          "name": "stdout",
          "text": [
            "<class 'str'>\n"
          ]
        }
      ]
    },
    {
      "cell_type": "code",
      "source": [
        "s=\"this is \"single quote symbol\"\n",
        "print(type(s))"
      ],
      "metadata": {
        "colab": {
          "base_uri": "https://localhost:8080/",
          "height": 140
        },
        "id": "D74goMUMnLnc",
        "outputId": "07fbedcb-baa5-4fdc-a04d-49d9abc1dcf2"
      },
      "execution_count": null,
      "outputs": [
        {
          "output_type": "error",
          "ename": "SyntaxError",
          "evalue": "ignored",
          "traceback": [
            "\u001b[0;36m  File \u001b[0;32m\"<ipython-input-6-a1bf1947fe81>\"\u001b[0;36m, line \u001b[0;32m1\u001b[0m\n\u001b[0;31m    s=\"this is \"single quote symbol\"\u001b[0m\n\u001b[0m                                   ^\u001b[0m\n\u001b[0;31mSyntaxError\u001b[0m\u001b[0;31m:\u001b[0m unterminated string literal (detected at line 1)\n"
          ]
        }
      ]
    },
    {
      "cell_type": "code",
      "source": [
        "s=\"This is \"double quotes symbol\""
      ],
      "metadata": {
        "colab": {
          "base_uri": "https://localhost:8080/",
          "height": 140
        },
        "id": "LO_wC9Vtnb4n",
        "outputId": "a1d85c16-a5c3-410d-8c4b-012d747703ca"
      },
      "execution_count": null,
      "outputs": [
        {
          "output_type": "error",
          "ename": "SyntaxError",
          "evalue": "ignored",
          "traceback": [
            "\u001b[0;36m  File \u001b[0;32m\"<ipython-input-7-c3c820505a90>\"\u001b[0;36m, line \u001b[0;32m1\u001b[0m\n\u001b[0;31m    s=\"This is \"double quotes symbol\"\u001b[0m\n\u001b[0m                                    ^\u001b[0m\n\u001b[0;31mSyntaxError\u001b[0m\u001b[0;31m:\u001b[0m unterminated string literal (detected at line 1)\n"
          ]
        }
      ]
    },
    {
      "cell_type": "code",
      "source": [
        "s='This is 'single quotes symbol'"
      ],
      "metadata": {
        "colab": {
          "base_uri": "https://localhost:8080/",
          "height": 140
        },
        "id": "Xk_kcHq_nkp3",
        "outputId": "657f15aa-8f36-4c0d-a2c0-7e2c7842508f"
      },
      "execution_count": null,
      "outputs": [
        {
          "output_type": "error",
          "ename": "SyntaxError",
          "evalue": "ignored",
          "traceback": [
            "\u001b[0;36m  File \u001b[0;32m\"<ipython-input-9-bf9eda1a02cb>\"\u001b[0;36m, line \u001b[0;32m1\u001b[0m\n\u001b[0;31m    s='This is 'single quotes symbol'\u001b[0m\n\u001b[0m                                    ^\u001b[0m\n\u001b[0;31mSyntaxError\u001b[0m\u001b[0;31m:\u001b[0m unterminated string literal (detected at line 1)\n"
          ]
        }
      ]
    },
    {
      "cell_type": "code",
      "source": [
        "s='The '\"python Notes\"by \"Moha Mam\"are very helpful'"
      ],
      "metadata": {
        "colab": {
          "base_uri": "https://localhost:8080/",
          "height": 140
        },
        "id": "2ozR5HYznrxG",
        "outputId": "6a347390-29d1-475e-b145-e45a580281f1"
      },
      "execution_count": null,
      "outputs": [
        {
          "output_type": "error",
          "ename": "SyntaxError",
          "evalue": "ignored",
          "traceback": [
            "\u001b[0;36m  File \u001b[0;32m\"<ipython-input-10-a58ef5910643>\"\u001b[0;36m, line \u001b[0;32m1\u001b[0m\n\u001b[0;31m    s='The '\"python Notes\"by \"moha Mam\"are very helpful'\u001b[0m\n\u001b[0m                                                       ^\u001b[0m\n\u001b[0;31mSyntaxError\u001b[0m\u001b[0;31m:\u001b[0m unterminated string literal (detected at line 1)\n"
          ]
        }
      ]
    },
    {
      "cell_type": "code",
      "source": [
        "s='The \"PythonNotes\"by 'Moha Mam' are very helfull'"
      ],
      "metadata": {
        "colab": {
          "base_uri": "https://localhost:8080/",
          "height": 140
        },
        "id": "525PVzdan7Co",
        "outputId": "e25b8573-934f-4a4b-b8fe-50effe88ac31"
      },
      "execution_count": null,
      "outputs": [
        {
          "output_type": "error",
          "ename": "SyntaxError",
          "evalue": "ignored",
          "traceback": [
            "\u001b[0;36m  File \u001b[0;32m\"<ipython-input-11-85d049d39f10>\"\u001b[0;36m, line \u001b[0;32m1\u001b[0m\n\u001b[0;31m    s='The \"PythonNotes\"by 'Moha Mam' are very helfull'\u001b[0m\n\u001b[0m                            ^\u001b[0m\n\u001b[0;31mSyntaxError\u001b[0m\u001b[0;31m:\u001b[0m invalid syntax\n"
          ]
        }
      ]
    },
    {
      "cell_type": "code",
      "source": [
        "s=\"the \"python Notes\" by 'Moha Mam' are very helpfull'"
      ],
      "metadata": {
        "colab": {
          "base_uri": "https://localhost:8080/",
          "height": 140
        },
        "id": "DkFnvB6BoM4n",
        "outputId": "29ec3d1c-6288-46ed-9d96-61ea0637d285"
      },
      "execution_count": null,
      "outputs": [
        {
          "output_type": "error",
          "ename": "SyntaxError",
          "evalue": "ignored",
          "traceback": [
            "\u001b[0;36m  File \u001b[0;32m\"<ipython-input-12-618317242102>\"\u001b[0;36m, line \u001b[0;32m1\u001b[0m\n\u001b[0;31m    s=\"the \"python Notes\" by 'Moha Mam' are very helpfull'\u001b[0m\n\u001b[0m                        ^\u001b[0m\n\u001b[0;31mSyntaxError\u001b[0m\u001b[0;31m:\u001b[0m unterminated string literal (detected at line 1)\n"
          ]
        }
      ]
    },
    {
      "cell_type": "code",
      "source": [
        "s='The \\'\"Python Notes\\\" by \\'moha Mam\\' are very helpfull'"
      ],
      "metadata": {
        "id": "LC7lhgCMoyGX"
      },
      "execution_count": null,
      "outputs": []
    },
    {
      "cell_type": "code",
      "source": [
        "s=''' The \"Python Notes\" by 'Moha Mam' are very helpful'''"
      ],
      "metadata": {
        "id": "wGrzgnEapKT3"
      },
      "execution_count": null,
      "outputs": []
    },
    {
      "cell_type": "code",
      "source": [],
      "metadata": {
        "id": "Ji4JTL1Xpc2o"
      },
      "execution_count": null,
      "outputs": []
    },
    {
      "cell_type": "markdown",
      "source": [
        "*How to access cahracters of a string?*\n",
        "\n",
        "We can access characters\n",
        "1. Indexing\n",
        "2.Slicing\n"
      ],
      "metadata": {
        "id": "oY1Gypk3pgKA"
      }
    },
    {
      "cell_type": "markdown",
      "source": [
        "By using Indexing:\n",
        "\n",
        "Python supports two types of indexing:\n",
        "\n",
        "    1.Positive Index (forward direction)\n",
        "means from left to right and starts from zero to the left and (n-1)\n",
        "at the  right where n is the length of the string.\n",
        "\n",
        "    2.Negative Index (Backward Direction)\n",
        "means from right to left and starts from [-1] to the right and ends with [-n] at the where n is the length of string.\n"
      ],
      "metadata": {
        "id": "Zrg8GVT2p1hp"
      }
    },
    {
      "cell_type": "code",
      "source": [
        "s=\"ganesha\"\n",
        "print(type(s))"
      ],
      "metadata": {
        "colab": {
          "base_uri": "https://localhost:8080/"
        },
        "id": "6WGPz2CnrBcg",
        "outputId": "4283a94b-6893-4f4b-cda5-4327e26cac47"
      },
      "execution_count": null,
      "outputs": [
        {
          "output_type": "stream",
          "name": "stdout",
          "text": [
            "<class 'str'>\n"
          ]
        }
      ]
    },
    {
      "cell_type": "code",
      "source": [
        "print(s[0])"
      ],
      "metadata": {
        "colab": {
          "base_uri": "https://localhost:8080/"
        },
        "id": "e6E6EDKTrhYJ",
        "outputId": "0bb2431e-5170-40fa-9dd8-fbc9869001eb"
      },
      "execution_count": null,
      "outputs": [
        {
          "output_type": "stream",
          "name": "stdout",
          "text": [
            "g\n"
          ]
        }
      ]
    },
    {
      "cell_type": "code",
      "source": [
        "s[4]"
      ],
      "metadata": {
        "colab": {
          "base_uri": "https://localhost:8080/",
          "height": 35
        },
        "id": "iFksLEtLriiY",
        "outputId": "1707e94d-edb0-4586-e506-2cd18ced85c3"
      },
      "execution_count": null,
      "outputs": [
        {
          "output_type": "execute_result",
          "data": {
            "text/plain": [
              "'s'"
            ],
            "application/vnd.google.colaboratory.intrinsic+json": {
              "type": "string"
            }
          },
          "metadata": {},
          "execution_count": 23
        }
      ]
    },
    {
      "cell_type": "code",
      "source": [
        "s[-1]"
      ],
      "metadata": {
        "colab": {
          "base_uri": "https://localhost:8080/",
          "height": 35
        },
        "id": "vU_TdIOWrnhn",
        "outputId": "b247e3b7-e20d-4925-a3c6-9af1e676406b"
      },
      "execution_count": null,
      "outputs": [
        {
          "output_type": "execute_result",
          "data": {
            "text/plain": [
              "'a'"
            ],
            "application/vnd.google.colaboratory.intrinsic+json": {
              "type": "string"
            }
          },
          "metadata": {},
          "execution_count": 24
        }
      ]
    },
    {
      "cell_type": "code",
      "source": [
        "s[-2]"
      ],
      "metadata": {
        "colab": {
          "base_uri": "https://localhost:8080/",
          "height": 35
        },
        "id": "BtT55wsir9ZY",
        "outputId": "d2a9197f-b861-416e-feb3-cc80c698498b"
      },
      "execution_count": null,
      "outputs": [
        {
          "output_type": "execute_result",
          "data": {
            "text/plain": [
              "'h'"
            ],
            "application/vnd.google.colaboratory.intrinsic+json": {
              "type": "string"
            }
          },
          "metadata": {},
          "execution_count": 25
        }
      ]
    },
    {
      "cell_type": "code",
      "source": [
        "s[10]"
      ],
      "metadata": {
        "colab": {
          "base_uri": "https://localhost:8080/",
          "height": 175
        },
        "id": "yuzjQHDlr_23",
        "outputId": "cebaa008-bf26-4fad-fdac-d814a6bf40b0"
      },
      "execution_count": null,
      "outputs": [
        {
          "output_type": "error",
          "ename": "IndexError",
          "evalue": "ignored",
          "traceback": [
            "\u001b[0;31m---------------------------------------------------------------------------\u001b[0m",
            "\u001b[0;31mIndexError\u001b[0m                                Traceback (most recent call last)",
            "\u001b[0;32m<ipython-input-26-34c622ab6870>\u001b[0m in \u001b[0;36m<cell line: 1>\u001b[0;34m()\u001b[0m\n\u001b[0;32m----> 1\u001b[0;31m \u001b[0ms\u001b[0m\u001b[0;34m[\u001b[0m\u001b[0;36m10\u001b[0m\u001b[0;34m]\u001b[0m\u001b[0;34m\u001b[0m\u001b[0;34m\u001b[0m\u001b[0m\n\u001b[0m",
            "\u001b[0;31mIndexError\u001b[0m: string index out of range"
          ]
        }
      ]
    },
    {
      "cell_type": "code",
      "source": [],
      "metadata": {
        "id": "Ms0ShyitsKWo"
      },
      "execution_count": null,
      "outputs": []
    },
    {
      "cell_type": "markdown",
      "source": [
        "WAP to accept some string from the keyboard and display its characters by index wise\n",
        "\n",
        "(both positive and negative index)"
      ],
      "metadata": {
        "id": "CalfTpJusLQK"
      }
    },
    {
      "cell_type": "code",
      "source": [
        "s=input(\"Enter any String \")\n",
        "i=0\n",
        "for x in s:\n",
        "  print(\"The character presernt in positive index{} and negative index{} is {}\".format(i,i-len(s),x))\n",
        "  i=i+1"
      ],
      "metadata": {
        "id": "Wgg0PexauWyY"
      },
      "execution_count": null,
      "outputs": []
    },
    {
      "cell_type": "code",
      "source": [],
      "metadata": {
        "id": "7TKx0D_qxOg6"
      },
      "execution_count": null,
      "outputs": []
    },
    {
      "cell_type": "code",
      "source": [],
      "metadata": {
        "id": "iMkJc0CpvaIY"
      },
      "execution_count": null,
      "outputs": []
    },
    {
      "cell_type": "markdown",
      "source": [
        "Slicing Operations:\n",
        "\n",
        "syntax:     s[beginning:endindex:step]"
      ],
      "metadata": {
        "id": "VJBp2hGAwFCk"
      }
    },
    {
      "cell_type": "markdown",
      "source": [
        "Note: If we don't specify begin index them it will be considered from the beginning of the string\n",
        "If we are not specifying end index then it well consider up to the end of the string default step size is one"
      ],
      "metadata": {
        "id": "JP1wphPhwaYB"
      }
    },
    {
      "cell_type": "code",
      "source": [
        "s=\"learning  python is very easy!!!\"\n"
      ],
      "metadata": {
        "id": "8iDZX7efxQWi"
      },
      "execution_count": null,
      "outputs": []
    },
    {
      "cell_type": "code",
      "source": [
        "s[1:7:1]"
      ],
      "metadata": {
        "id": "XTQbDBM4xbOY"
      },
      "execution_count": null,
      "outputs": []
    },
    {
      "cell_type": "code",
      "source": [
        "s[1:7:2]"
      ],
      "metadata": {
        "id": "CORAe98rxdkI"
      },
      "execution_count": null,
      "outputs": []
    },
    {
      "cell_type": "code",
      "source": [
        "S[:7]"
      ],
      "metadata": {
        "id": "juKKvh_wxuLo"
      },
      "execution_count": null,
      "outputs": []
    },
    {
      "cell_type": "code",
      "source": [
        "S[7:]"
      ],
      "metadata": {
        "id": "5FTDRi0RxwtX"
      },
      "execution_count": null,
      "outputs": []
    },
    {
      "cell_type": "code",
      "source": [
        "S[::]"
      ],
      "metadata": {
        "id": "Ncmzhv8Sx6UH"
      },
      "execution_count": null,
      "outputs": []
    },
    {
      "cell_type": "code",
      "source": [
        "S[:]"
      ],
      "metadata": {
        "id": "Id_4md4kx_no"
      },
      "execution_count": null,
      "outputs": []
    },
    {
      "cell_type": "code",
      "source": [],
      "metadata": {
        "id": "45zL24_dyBSY"
      },
      "execution_count": null,
      "outputs": []
    },
    {
      "cell_type": "markdown",
      "source": [
        "**WAP to inverse the contents of the string**"
      ],
      "metadata": {
        "id": "DjK411DOyRBZ"
      }
    },
    {
      "cell_type": "code",
      "source": [
        "s=\"Learnig a python is very easy!!!\"\n"
      ],
      "metadata": {
        "id": "bgfZ3i2gydAS"
      },
      "execution_count": null,
      "outputs": []
    },
    {
      "cell_type": "code",
      "source": [
        "s[::-1]"
      ],
      "metadata": {
        "id": "zkUgh0fTzXOp",
        "colab": {
          "base_uri": "https://localhost:8080/",
          "height": 35
        },
        "outputId": "5dcd218d-c778-45bd-b465-6fe49261349b"
      },
      "execution_count": null,
      "outputs": [
        {
          "output_type": "execute_result",
          "data": {
            "text/plain": [
              "'!!!ysae yrev si nohtyp a ginraeL'"
            ],
            "application/vnd.google.colaboratory.intrinsic+json": {
              "type": "string"
            }
          },
          "metadata": {},
          "execution_count": 3
        }
      ]
    },
    {
      "cell_type": "code",
      "source": [
        "s=input(\"Enter any String \")\n",
        "i=0\n",
        "for x in s:\n",
        "  print(\"The character present in positive indx{} and negative index{} is {} \"\n",
        "  .format(i,i-len(s),x))\n",
        "  i=i+1"
      ],
      "metadata": {
        "id": "wH_z8pOxdEoy",
        "colab": {
          "base_uri": "https://localhost:8080/"
        },
        "outputId": "4a773fb2-02be-4005-9d9f-36fae14dc52c"
      },
      "execution_count": null,
      "outputs": [
        {
          "output_type": "stream",
          "name": "stdout",
          "text": [
            "Enter any String pradnehs\n",
            "The character present in positive indx0 and negative index-8 is p \n",
            "The character present in positive indx1 and negative index-7 is r \n",
            "The character present in positive indx2 and negative index-6 is a \n",
            "The character present in positive indx3 and negative index-5 is d \n",
            "The character present in positive indx4 and negative index-4 is n \n",
            "The character present in positive indx5 and negative index-3 is e \n",
            "The character present in positive indx6 and negative index-2 is h \n",
            "The character present in positive indx7 and negative index-1 is s \n"
          ]
        }
      ]
    },
    {
      "cell_type": "code",
      "source": [],
      "metadata": {
        "id": "kQF03_X_f14P"
      },
      "execution_count": null,
      "outputs": []
    },
    {
      "cell_type": "markdown",
      "source": [
        "Behaviour of  Slice Operator:\n",
        "In forward direction:\n",
        "default value for begin: 0\n",
        "default valu for end: length of string\n",
        "default value for step : +1\n",
        "\n",
        "In Backward direction:\n",
        "default value for begin: -\n",
        "default value for end : -(length of string+1)\n",
        "\n",
        "Note:\n",
        "In Backward direction if the end value is -1 then result is always empty\n",
        "In forward direction if the end value is 0 then the result is always empty\n"
      ],
      "metadata": {
        "id": "g1UMquw_hLD2"
      }
    },
    {
      "cell_type": "markdown",
      "source": [
        "Mathmatical Operations for Strings:\n",
        "\n",
        "We can apply following mathematical operations on Strings:\n",
        "1. + operator for concatenation\n",
        "2. * operator for repition\n",
        "\n",
        "Note:\n",
        "1. To use + operator both the arguments should be str type\n",
        "2. To use * operator one should be string and other int type"
      ],
      "metadata": {
        "id": "YHVghuBBiJBN"
      }
    },
    {
      "cell_type": "code",
      "source": [
        "print(\"Shree\"+\"Ganesh\")"
      ],
      "metadata": {
        "colab": {
          "base_uri": "https://localhost:8080/"
        },
        "id": "hcIOWbbDhTkq",
        "outputId": "3245ede8-171e-4795-973c-a5157ca25d03"
      },
      "execution_count": null,
      "outputs": [
        {
          "output_type": "stream",
          "name": "stdout",
          "text": [
            "ShreeGanesh\n"
          ]
        }
      ]
    },
    {
      "cell_type": "code",
      "source": [
        "print(\"Pradnesh\"*3)"
      ],
      "metadata": {
        "colab": {
          "base_uri": "https://localhost:8080/"
        },
        "id": "z4XM3ZapjlUr",
        "outputId": "af27cae2-d8e3-497f-b4a3-047f574e2333"
      },
      "execution_count": null,
      "outputs": [
        {
          "output_type": "stream",
          "name": "stdout",
          "text": [
            "PradneshPradneshPradnesh\n"
          ]
        }
      ]
    },
    {
      "cell_type": "code",
      "source": [],
      "metadata": {
        "id": "CrXh9Z2ikKvC"
      },
      "execution_count": null,
      "outputs": []
    },
    {
      "cell_type": "markdown",
      "source": [
        "In-built Function:\n"
      ],
      "metadata": {
        "id": "teNgXEPzkUfd"
      }
    }
  ]
}