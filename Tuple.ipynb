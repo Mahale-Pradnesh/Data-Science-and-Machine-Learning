{
  "nbformat": 4,
  "nbformat_minor": 0,
  "metadata": {
    "colab": {
      "provenance": [],
      "authorship_tag": "ABX9TyPrnCcX8fKYv9tDozu2Omih",
      "include_colab_link": true
    },
    "kernelspec": {
      "name": "python3",
      "display_name": "Python 3"
    },
    "language_info": {
      "name": "python"
    }
  },
  "cells": [
    {
      "cell_type": "markdown",
      "metadata": {
        "id": "view-in-github",
        "colab_type": "text"
      },
      "source": [
        "<a href=\"https://colab.research.google.com/github/Mahale-Pradnesh/Data-Science-and-Machine-Learning/blob/main/Tuple.ipynb\" target=\"_parent\"><img src=\"https://colab.research.google.com/assets/colab-badge.svg\" alt=\"Open In Colab\"/></a>"
      ]
    },
    {
      "cell_type": "code",
      "execution_count": null,
      "metadata": {
        "id": "zmUpp_KQSJ5q"
      },
      "outputs": [],
      "source": []
    },
    {
      "cell_type": "markdown",
      "source": [
        "# **Tuple:**\n",
        "tuple objects are immutable i.e. once we create a tuple we can not change its contents\n",
        "inssertion orser is preserved duplicates are allowed\n",
        "heterogenneus value are allowed."
      ],
      "metadata": {
        "id": "x7PvgpW1SOpt"
      }
    },
    {
      "cell_type": "code",
      "source": [
        "t=12,20,30,40,50\n",
        "print(t)\n",
        "print(type(t))"
      ],
      "metadata": {
        "colab": {
          "base_uri": "https://localhost:8080/"
        },
        "id": "HeEDyaZGSvml",
        "outputId": "21853758-e452-4bf8-b46e-3c12f9eb8eb2"
      },
      "execution_count": null,
      "outputs": [
        {
          "output_type": "stream",
          "name": "stdout",
          "text": [
            "(12, 20, 30, 40, 50)\n",
            "<class 'tuple'>\n"
          ]
        }
      ]
    },
    {
      "cell_type": "code",
      "source": [],
      "metadata": {
        "id": "XPQqlHkRS1Om"
      },
      "execution_count": null,
      "outputs": []
    },
    {
      "cell_type": "markdown",
      "source": [
        "Single valued tuple\n"
      ],
      "metadata": {
        "id": "kGYihXtoS3jr"
      }
    },
    {
      "cell_type": "code",
      "source": [
        "t=10\n",
        "print(t)\n",
        "print(type(t))"
      ],
      "metadata": {
        "colab": {
          "base_uri": "https://localhost:8080/"
        },
        "id": "DswK6wJcS8UU",
        "outputId": "1c71b2a9-1ad5-41c6-b76a-f524ccfe48ee"
      },
      "execution_count": null,
      "outputs": [
        {
          "output_type": "stream",
          "name": "stdout",
          "text": [
            "10\n",
            "<class 'int'>\n"
          ]
        }
      ]
    },
    {
      "cell_type": "code",
      "source": [
        "t=10,\n",
        "print(t)\n",
        "print(type(t))"
      ],
      "metadata": {
        "colab": {
          "base_uri": "https://localhost:8080/"
        },
        "id": "Gff0FVuqTBh0",
        "outputId": "df71ba82-7cfa-4b7d-c984-9ad2d351ef45"
      },
      "execution_count": null,
      "outputs": [
        {
          "output_type": "stream",
          "name": "stdout",
          "text": [
            "(10,)\n",
            "<class 'tuple'>\n"
          ]
        }
      ]
    },
    {
      "cell_type": "code",
      "source": [],
      "metadata": {
        "id": "4MLImRuJTFWy"
      },
      "execution_count": null,
      "outputs": []
    },
    {
      "cell_type": "markdown",
      "source": [
        "Which of the following is a vlaid tuple?\n",
        "\n",
        "1.t=()\n",
        "\n",
        "2.t=1,2,3,4,5\n",
        "\n",
        "3.t=10\n",
        "\n",
        "4.t=10,\n",
        "\n",
        "5.t=(10)\n",
        "\n",
        "6.t=(10,)\n",
        "\n",
        "7.t=(1,2,3,4,5)"
      ],
      "metadata": {
        "id": "5o8uFLuNTGtz"
      }
    },
    {
      "cell_type": "code",
      "source": [
        "t=()\n",
        "print(type(t))"
      ],
      "metadata": {
        "colab": {
          "base_uri": "https://localhost:8080/"
        },
        "id": "re9eM5w5TeYL",
        "outputId": "c2a95966-75a4-4e38-b439-835e73dfb807"
      },
      "execution_count": null,
      "outputs": [
        {
          "output_type": "stream",
          "name": "stdout",
          "text": [
            "<class 'tuple'>\n"
          ]
        }
      ]
    },
    {
      "cell_type": "code",
      "source": [
        "t=1,2,3,4,5\n",
        "print(type(t))"
      ],
      "metadata": {
        "colab": {
          "base_uri": "https://localhost:8080/"
        },
        "id": "tZtxFxi_TjpC",
        "outputId": "6bdf9a48-7a35-4c68-e160-f6eb4e4bbe51"
      },
      "execution_count": null,
      "outputs": [
        {
          "output_type": "stream",
          "name": "stdout",
          "text": [
            "<class 'tuple'>\n"
          ]
        }
      ]
    },
    {
      "cell_type": "code",
      "source": [
        "t=10\n",
        "print(type(t))"
      ],
      "metadata": {
        "colab": {
          "base_uri": "https://localhost:8080/"
        },
        "id": "0CrBQ7bmToDi",
        "outputId": "6ad60fd5-4f86-42c1-8e0b-686a69e0c2b1"
      },
      "execution_count": null,
      "outputs": [
        {
          "output_type": "stream",
          "name": "stdout",
          "text": [
            "<class 'int'>\n"
          ]
        }
      ]
    },
    {
      "cell_type": "code",
      "source": [
        "t=10,\n",
        "print(type(t))"
      ],
      "metadata": {
        "colab": {
          "base_uri": "https://localhost:8080/"
        },
        "id": "6fCMUhmwTtVh",
        "outputId": "8f59bef5-dd78-41f8-f41f-bcb943350e26"
      },
      "execution_count": null,
      "outputs": [
        {
          "output_type": "stream",
          "name": "stdout",
          "text": [
            "<class 'tuple'>\n"
          ]
        }
      ]
    },
    {
      "cell_type": "code",
      "source": [
        "t=(10)\n",
        "print(type(t))"
      ],
      "metadata": {
        "colab": {
          "base_uri": "https://localhost:8080/"
        },
        "id": "Hkylifs8TwPK",
        "outputId": "d161f5a2-aef9-4017-bdb7-bcd9f750f0c8"
      },
      "execution_count": null,
      "outputs": [
        {
          "output_type": "stream",
          "name": "stdout",
          "text": [
            "<class 'int'>\n"
          ]
        }
      ]
    },
    {
      "cell_type": "code",
      "source": [
        "t=(10,)\n",
        "print(type(t))"
      ],
      "metadata": {
        "colab": {
          "base_uri": "https://localhost:8080/"
        },
        "id": "ksPHXhUoT3ey",
        "outputId": "bcfeb22f-044b-4cd9-cd31-9fc82ad9232e"
      },
      "execution_count": null,
      "outputs": [
        {
          "output_type": "stream",
          "name": "stdout",
          "text": [
            "<class 'tuple'>\n"
          ]
        }
      ]
    },
    {
      "cell_type": "code",
      "source": [],
      "metadata": {
        "id": "_nGHMvcpT_ly"
      },
      "execution_count": null,
      "outputs": []
    },
    {
      "cell_type": "markdown",
      "source": [],
      "metadata": {
        "id": "MhaBdk1DUAm7"
      }
    },
    {
      "cell_type": "markdown",
      "source": [
        "Tuple Creation:\n",
        "1.Creation of empty tuple\n",
        "2.Creation of single valued tuple\n",
        "3.creation of multiple valued tuple\n",
        "4.creation with tuple function"
      ],
      "metadata": {
        "id": "GpL4tzngUAsr"
      }
    },
    {
      "cell_type": "code",
      "source": [
        "t=()\n",
        "print(type(t))"
      ],
      "metadata": {
        "colab": {
          "base_uri": "https://localhost:8080/"
        },
        "id": "hdKXdzbUUUZi",
        "outputId": "1565b1a2-0295-4453-fa60-52b274e0b192"
      },
      "execution_count": null,
      "outputs": [
        {
          "output_type": "stream",
          "name": "stdout",
          "text": [
            "<class 'tuple'>\n"
          ]
        }
      ]
    },
    {
      "cell_type": "code",
      "source": [
        "t=10,\n",
        "print(type(t))"
      ],
      "metadata": {
        "colab": {
          "base_uri": "https://localhost:8080/"
        },
        "id": "kM42x5N3UeEC",
        "outputId": "63c779af-a744-4288-f243-fa9f9b626dc8"
      },
      "execution_count": null,
      "outputs": [
        {
          "output_type": "stream",
          "name": "stdout",
          "text": [
            "<class 'tuple'>\n"
          ]
        }
      ]
    },
    {
      "cell_type": "code",
      "source": [
        "t=(1,2,3,4,5)\n",
        "print(type(t))"
      ],
      "metadata": {
        "colab": {
          "base_uri": "https://localhost:8080/"
        },
        "id": "MKRjIwuFUilB",
        "outputId": "80b7311d-ea33-46fe-a9d1-ee2628201242"
      },
      "execution_count": null,
      "outputs": [
        {
          "output_type": "stream",
          "name": "stdout",
          "text": [
            "<class 'tuple'>\n"
          ]
        }
      ]
    },
    {
      "cell_type": "code",
      "source": [
        "t=tuple(range(10,100,10))\n",
        "print(t)"
      ],
      "metadata": {
        "colab": {
          "base_uri": "https://localhost:8080/"
        },
        "id": "FLPECjeWUoFq",
        "outputId": "0e2a7853-7eb3-4a2e-e2c5-e316a610637d"
      },
      "execution_count": null,
      "outputs": [
        {
          "output_type": "stream",
          "name": "stdout",
          "text": [
            "(10, 20, 30, 40, 50, 60, 70, 80, 90)\n"
          ]
        }
      ]
    },
    {
      "cell_type": "code",
      "source": [
        "l=[1,2,3,4,5,6,7,8,9,9]\n",
        "t=tuple(l)\n",
        "print(t)\n",
        "print(type(t))"
      ],
      "metadata": {
        "colab": {
          "base_uri": "https://localhost:8080/"
        },
        "id": "dAXGsYxnVH8i",
        "outputId": "22be85ea-6dc2-4e4a-91ba-b3a1c4e1c54d"
      },
      "execution_count": null,
      "outputs": [
        {
          "output_type": "stream",
          "name": "stdout",
          "text": [
            "(1, 2, 3, 4, 5, 6, 7, 8, 9, 9)\n",
            "<class 'tuple'>\n"
          ]
        }
      ]
    },
    {
      "cell_type": "code",
      "source": [
        "l=list(range(9,19,5))\n",
        "print(l)\n",
        "print(type(l))"
      ],
      "metadata": {
        "colab": {
          "base_uri": "https://localhost:8080/"
        },
        "id": "r-U5qr6aWD7A",
        "outputId": "0bcb7154-5753-450c-aa3a-1976ba9280b2"
      },
      "execution_count": null,
      "outputs": [
        {
          "output_type": "stream",
          "name": "stdout",
          "text": [
            "[9, 14]\n",
            "<class 'list'>\n"
          ]
        }
      ]
    },
    {
      "cell_type": "code",
      "source": [],
      "metadata": {
        "id": "PoqAFNoeWvvQ"
      },
      "execution_count": null,
      "outputs": []
    }
  ]
}